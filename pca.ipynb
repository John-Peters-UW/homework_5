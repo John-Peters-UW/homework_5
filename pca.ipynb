{
 "cells": [
  {
   "cell_type": "code",
   "execution_count": 338,
   "metadata": {},
   "outputs": [],
   "source": [
    "import numpy as np\n",
    "from copy import deepcopy\n",
    "import seaborn as sns\n",
    "import matplotlib.pyplot as plt\n",
    "from sklearn.metrics import mean_squared_error\n",
    "from scipy.spatial.distance import cdist"
   ]
  },
  {
   "cell_type": "code",
   "execution_count": 363,
   "metadata": {},
   "outputs": [],
   "source": [
    "class BuggyPCA:\n",
    "    def __init__(self, dims) -> None:\n",
    "        self.dims = dims\n",
    "\n",
    "    def fit_transform(self, data):\n",
    "        self.data = data\n",
    "        self.temp_data = deepcopy(data)\n",
    "\n",
    "        self.best_vectors = []\n",
    "        while self.temp_data.shape[-1] != self.dims:\n",
    "            covariance_mat = np.cov(self.temp_data, rowvar=False)\n",
    "            eigen_values, eigen_vecs = np.linalg.eigh(covariance_mat)\n",
    "\n",
    "            sorted_eigan_values_index = np.argsort(eigen_values)[::-1]\n",
    "            sorted_eigen_values = eigen_values[sorted_eigan_values_index]\n",
    "            sorted_eigen_vectors = eigen_vecs[:, sorted_eigan_values_index]\n",
    "            best_vector = sorted_eigen_vectors[:,0:self.temp_data.shape[1]-1]\n",
    "\n",
    "            self.best_vectors.append(best_vector)\n",
    "            transformed_data = np.dot(best_vector.T, self.temp_data.T).T\n",
    "            self.temp_data = transformed_data\n",
    "\n",
    "        self.best_vectors.reverse()\n",
    "        return self.temp_data\n",
    "    \n",
    "    def reconstruct(self):\n",
    "        reconstruction = deepcopy(self.temp_data)\n",
    "        for vector in self.best_vectors:\n",
    "            reconstruction = reconstruction @ vector.T \n",
    "\n",
    "        err = mean_squared_error(self.data, reconstruction)\n",
    "\n",
    "        return reconstruction, err\n",
    "    "
   ]
  },
  {
   "cell_type": "code",
   "execution_count": 340,
   "metadata": {},
   "outputs": [],
   "source": [
    "class DemeanedPCA:\n",
    "    def __init__(self, dims) -> None:\n",
    "        self.dims = dims\n",
    "\n",
    "    def fit_transform(self, data):\n",
    "        self.data = data\n",
    "        self.temp_data = deepcopy(data)\n",
    "        self.mean = np.mean(self.temp_data, axis = 0)\n",
    "        self.temp_data = self.temp_data - self.mean\n",
    "\n",
    "        self.best_vectors = []\n",
    "        while self.temp_data.shape[-1] != self.dims:\n",
    "            covariance_mat = np.cov(self.temp_data, rowvar=False)\n",
    "            eigen_values, eigen_vecs = np.linalg.eigh(covariance_mat)\n",
    "    \n",
    "            sorted_eigan_values_index = np.argsort(eigen_values)[::-1]\n",
    "            sorted_eigen_values = eigen_values[sorted_eigan_values_index]\n",
    "            sorted_eigen_vectors = eigen_vecs[:, sorted_eigan_values_index]\n",
    "            best_vector = sorted_eigen_vectors[:,0:self.temp_data.shape[1]-1]\n",
    "\n",
    "            self.best_vectors.append(best_vector)\n",
    "            transformed_data = np.dot(best_vector.T, self.temp_data.T).T\n",
    "            self.temp_data = transformed_data\n",
    "        \n",
    "        self.best_vectors.reverse()\n",
    "        return self.temp_data\n",
    "    \n",
    "    def reconstruct(self):\n",
    "        reconstruction = deepcopy(self.temp_data)\n",
    "        for vector in self.best_vectors:\n",
    "            reconstruction = reconstruction @ vector.T\n",
    "\n",
    "        reconstruction = reconstruction + self.mean \n",
    "\n",
    "        err = mean_squared_error(self.data, reconstruction)\n",
    "\n",
    "        return reconstruction, err"
   ]
  },
  {
   "cell_type": "code",
   "execution_count": 341,
   "metadata": {},
   "outputs": [],
   "source": [
    "class NormalizedPCA:\n",
    "    def __init__(self, dims) -> None:\n",
    "        self.dims = dims\n",
    "\n",
    "    def fit_transform(self, data):\n",
    "        self.data = data\n",
    "        self.temp_data = deepcopy(data)\n",
    "        self.mean = np.mean(self.temp_data, axis = 0)\n",
    "        self.std_dev = np.std(self.temp_data, axis=0)\n",
    "        self.temp_data = (self.temp_data - self.mean)/self.std_dev\n",
    "\n",
    "        self.best_vectors = []\n",
    "        while self.temp_data.shape[-1] != self.dims:\n",
    "            covariance_mat = np.cov(self.temp_data, rowvar=False)\n",
    "            eigen_values, eigen_vecs = np.linalg.eigh(covariance_mat)\n",
    "\n",
    "            sorted_eigan_values_index = np.argsort(eigen_values)[::-1]\n",
    "            sorted_eigen_values = eigen_values[sorted_eigan_values_index]\n",
    "            sorted_eigen_vectors = eigen_vecs[:, sorted_eigan_values_index]\n",
    "            best_vector = sorted_eigen_vectors[:,0:self.temp_data.shape[1]-1]\n",
    "\n",
    "            self.best_vectors.append(best_vector)\n",
    "\n",
    "            transformed_data = np.dot(best_vector.T, self.temp_data.T).T\n",
    "            self.temp_data = transformed_data\n",
    "        \n",
    "        self.best_vectors.reverse()\n",
    "        return self.temp_data\n",
    "    \n",
    "    def reconstruct(self):\n",
    "        reconstruction = deepcopy(self.temp_data)\n",
    "        for vector in self.best_vectors:\n",
    "            reconstruction = reconstruction @ vector.T\n",
    "        \n",
    "        reconstruction = (reconstruction*self.std_dev) + self.mean\n",
    "\n",
    "        err = mean_squared_error(self.data, reconstruction)\n",
    "\n",
    "        return reconstruction, err"
   ]
  },
  {
   "cell_type": "code",
   "execution_count": 342,
   "metadata": {},
   "outputs": [],
   "source": [
    "class DRO:\n",
    "    def __init__(self, dims) -> None:\n",
    "        self.dims = dims\n",
    "\n",
    "    def fit_transform(self, data):\n",
    "        self.data = data\n",
    "        self.temp_data = deepcopy(data)\n",
    "        self.mean = np.mean(self.temp_data, axis = 0)\n",
    "        self.temp_data = self.temp_data - self.mean\n",
    "        k = self.dims\n",
    "        U, S, VT = np.linalg.svd(self.temp_data, full_matrices=False)\n",
    "        self.U = U\n",
    "        self.S = S\n",
    "        self.VT = VT\n",
    "        # transformed_data = np.dot(U[:, :k], np.dot(np.diag(S[:k]), VT[:k, :]))\n",
    "        transformed_data = U[:, :k] @ np.diag(S[:k])\n",
    "        self.temp_data = transformed_data\n",
    "        return self.temp_data\n",
    "    \n",
    "    def reconstruct(self):\n",
    "        reconstruction = self.U[:, :self.dims] @ np.diag(self.S[:self.dims]) @ self.VT[:self.dims, :]\n",
    "        reconstruction = reconstruction + self.mean\n",
    "        \n",
    "        err = mean_squared_error(self.data, reconstruction)\n",
    "        return reconstruction, err\n"
   ]
  },
  {
   "cell_type": "code",
   "execution_count": 343,
   "metadata": {},
   "outputs": [
    {
     "data": {
      "text/plain": [
       "(50, 2)"
      ]
     },
     "execution_count": 343,
     "metadata": {},
     "output_type": "execute_result"
    }
   ],
   "source": [
    "dim2_data = np.loadtxt('./data/data2D.csv', delimiter=',')\n",
    "dim2_data.shape"
   ]
  },
  {
   "cell_type": "code",
   "execution_count": 344,
   "metadata": {},
   "outputs": [
    {
     "data": {
      "text/plain": [
       "(500, 1000)"
      ]
     },
     "execution_count": 344,
     "metadata": {},
     "output_type": "execute_result"
    }
   ],
   "source": [
    "dim1000_data = np.loadtxt('./data/data1000D.csv', delimiter=',')\n",
    "dim1000_data.shape"
   ]
  },
  {
   "cell_type": "code",
   "execution_count": 364,
   "metadata": {},
   "outputs": [
    {
     "name": "stdout",
     "output_type": "stream",
     "text": [
      "22.682578356094265 BuggyPCA\n",
      "0.005003042814256461 DemeanedPCA\n",
      "0.024736041727385333 NormalizedPCA\n",
      "0.005003042814256459 DRO\n"
     ]
    }
   ],
   "source": [
    "methods = [BuggyPCA, DemeanedPCA, NormalizedPCA, DRO]\n",
    "method_names = [\"BuggyPCA\", \"DemeanedPCA\", \"NormalizedPCA\", \"DRO\"]\n",
    "for index, method in enumerate(methods):\n",
    "    model = method(1)\n",
    "    model.fit_transform(dim2_data).shape\n",
    "    reconstruction, err = model.reconstruct()   \n",
    "    print(err, method_names[index])\n",
    "    \n",
    "    # sns.scatterplot(x=dim2_data[:,0], y=dim2_data[:,1])\n",
    "    # sns.scatterplot(x=reconstruction[:,0], y=reconstruction[:,1])\n",
    "    # plt.title(method_names[index])\n",
    "    # plt.xlabel(\"X\")\n",
    "    # plt.ylabel(\"Y\")\n",
    "    # plt.show()"
   ]
  },
  {
   "cell_type": "code",
   "execution_count": 346,
   "metadata": {},
   "outputs": [
    {
     "name": "stdout",
     "output_type": "stream",
     "text": [
      "Fitting model BuggyPCA\n"
     ]
    },
    {
     "name": "stdout",
     "output_type": "stream",
     "text": [
      "500.3205868312981 BuggyPCA\n",
      "Fitting model DemeanedPCA\n",
      "0.8030552376039611 DemeanedPCA\n",
      "Fitting model NormalizedPCA\n",
      "0.8073729535644245 NormalizedPCA\n",
      "Fitting model DRO\n",
      "0.8030552376039611 DRO\n"
     ]
    }
   ],
   "source": [
    "methods = [BuggyPCA, DemeanedPCA, NormalizedPCA, DRO]\n",
    "method_names = [\"BuggyPCA\", \"DemeanedPCA\", \"NormalizedPCA\", \"DRO\"]\n",
    "for index, method in enumerate(methods):\n",
    "    print(\"Fitting model\", method_names[index])\n",
    "    model = method(29)\n",
    "    model.fit_transform(dim1000_data)\n",
    "    reconstruction, err = model.reconstruct()   \n",
    "    print(err, method_names[index])\n",
    "    \n",
    "    # sns.scatterplot(x=dim2_data[:,0], y=dim2_data[:,1])\n",
    "    # sns.scatterplot(x=reconstruction[:,0], y=reconstruction[:,1])\n",
    "    # plt.title(method_names[index])\n",
    "    # plt.xlabel(\"X\")\n",
    "    # plt.ylabel(\"Y\")\n",
    "    # plt.show()"
   ]
  },
  {
   "cell_type": "code",
   "execution_count": 347,
   "metadata": {},
   "outputs": [],
   "source": [
    "buggy = BuggyPCA(1)\n",
    "buggy.fit_transform(dim2_data).shape\n",
    "reconstruction, err = buggy.reconstruct()\n",
    "\n",
    "# buggy2 = BuggyPCA(988)\n",
    "# buggy2.fit_transform(dim1000_data).shape\n",
    "# reconstruction, err = buggy2.reconstruct()[1]"
   ]
  },
  {
   "cell_type": "code",
   "execution_count": 348,
   "metadata": {},
   "outputs": [
    {
     "name": "stderr",
     "output_type": "stream",
     "text": [
      "c:\\Python311\\Lib\\site-packages\\seaborn\\_oldcore.py:1498: FutureWarning: is_categorical_dtype is deprecated and will be removed in a future version. Use isinstance(dtype, CategoricalDtype) instead\n",
      "  if pd.api.types.is_categorical_dtype(vector):\n",
      "c:\\Python311\\Lib\\site-packages\\seaborn\\_oldcore.py:1498: FutureWarning: is_categorical_dtype is deprecated and will be removed in a future version. Use isinstance(dtype, CategoricalDtype) instead\n",
      "  if pd.api.types.is_categorical_dtype(vector):\n",
      "c:\\Python311\\Lib\\site-packages\\seaborn\\_oldcore.py:1498: FutureWarning: is_categorical_dtype is deprecated and will be removed in a future version. Use isinstance(dtype, CategoricalDtype) instead\n",
      "  if pd.api.types.is_categorical_dtype(vector):\n",
      "c:\\Python311\\Lib\\site-packages\\seaborn\\_oldcore.py:1498: FutureWarning: is_categorical_dtype is deprecated and will be removed in a future version. Use isinstance(dtype, CategoricalDtype) instead\n",
      "  if pd.api.types.is_categorical_dtype(vector):\n"
     ]
    },
    {
     "data": {
      "text/plain": [
       "<Axes: >"
      ]
     },
     "execution_count": 348,
     "metadata": {},
     "output_type": "execute_result"
    },
    {
     "data": {
      "image/png": "[encoded data removed]",
      "text/plain": [
       "<Figure size 640x480 with 1 Axes>"
      ]
     },
     "metadata": {},
     "output_type": "display_data"
    }
   ],
   "source": [
    "sns.scatterplot(x=dim2_data[:,0], y=dim2_data[:,1])\n",
    "sns.scatterplot(x=reconstruction[:,0], y=reconstruction[:,1])"
   ]
  },
  {
   "cell_type": "code",
   "execution_count": 349,
   "metadata": {},
   "outputs": [
    {
     "name": "stdout",
     "output_type": "stream",
     "text": [
      "0.005003042814256461\n"
     ]
    }
   ],
   "source": [
    "demeaned = DemeanedPCA(1)\n",
    "demeaned.fit_transform(dim2_data).shape\n",
    "print(demeaned.reconstruct()[1])"
   ]
  },
  {
   "cell_type": "code",
   "execution_count": 350,
   "metadata": {},
   "outputs": [
    {
     "name": "stdout",
     "output_type": "stream",
     "text": [
      "0.024736041727385333\n"
     ]
    }
   ],
   "source": [
    "normalized = NormalizedPCA(1)\n",
    "normalized.fit_transform(dim2_data).shape\n",
    "print(normalized.reconstruct()[1])"
   ]
  },
  {
   "cell_type": "code",
   "execution_count": 351,
   "metadata": {},
   "outputs": [
    {
     "data": {
      "text/plain": [
       "(500, 29)"
      ]
     },
     "execution_count": 351,
     "metadata": {},
     "output_type": "execute_result"
    }
   ],
   "source": [
    "dro = DRO(29)\n",
    "dro.fit_transform(dim1000_data).shape"
   ]
  },
  {
   "cell_type": "code",
   "execution_count": 352,
   "metadata": {},
   "outputs": [
    {
     "data": {
      "text/plain": [
       "0.8030552376039611"
      ]
     },
     "execution_count": 352,
     "metadata": {},
     "output_type": "execute_result"
    }
   ],
   "source": [
    "dro.reconstruct()[1]"
   ]
  },
  {
   "cell_type": "code",
   "execution_count": 353,
   "metadata": {},
   "outputs": [
    {
     "name": "stderr",
     "output_type": "stream",
     "text": [
      "c:\\Python311\\Lib\\site-packages\\seaborn\\_oldcore.py:1498: FutureWarning: is_categorical_dtype is deprecated and will be removed in a future version. Use isinstance(dtype, CategoricalDtype) instead\n",
      "  if pd.api.types.is_categorical_dtype(vector):\n",
      "c:\\Python311\\Lib\\site-packages\\seaborn\\_oldcore.py:1498: FutureWarning: is_categorical_dtype is deprecated and will be removed in a future version. Use isinstance(dtype, CategoricalDtype) instead\n",
      "  if pd.api.types.is_categorical_dtype(vector):\n"
     ]
    },
    {
     "data": {
      "text/plain": [
       "(20.0, 40.0)"
      ]
     },
     "execution_count": 353,
     "metadata": {},
     "output_type": "execute_result"
    },
    {
     "data": {
      "image/png": "[encoded data removed]",
      "text/plain": [
       "<Figure size 640x480 with 1 Axes>"
      ]
     },
     "metadata": {},
     "output_type": "display_data"
    }
   ],
   "source": [
    "sns.scatterplot(x=range(len(dro.S)), y=dro.S)\n",
    "plt.title(\"DRO knee point plot\")\n",
    "plt.xlabel(\"Singular value index\")\n",
    "plt.ylabel(\"Singular value\")\n",
    "plt.xlim(20,40)\n",
    "# plt.xticks(range(20, 41, 1))"
   ]
  }
 ],
 "metadata": {
  "kernelspec": {
   "display_name": "Python 3",
   "language": "python",
   "name": "python3"
  },
  "language_info": {
   "codemirror_mode": {
    "name": "ipython",
    "version": 3
   },
   "file_extension": ".py",
   "mimetype": "text/x-python",
   "name": "python",
   "nbconvert_exporter": "python",
   "pygments_lexer": "ipython3",
   "version": "3.11.5"
  }
 },
 "nbformat": 4,
 "nbformat_minor": 2
}
